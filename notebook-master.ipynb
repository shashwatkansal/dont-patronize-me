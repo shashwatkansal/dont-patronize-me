{
 "cells": [
  {
   "attachments": {},
   "cell_type": "markdown",
   "metadata": {},
   "source": [
    "# NLP Coursework Notebook"
   ]
  },
  {
   "attachments": {},
   "cell_type": "markdown",
   "metadata": {},
   "source": [
    "## Rules"
   ]
  },
  {
   "attachments": {},
   "cell_type": "markdown",
   "metadata": {},
   "source": [
    "* Only add code for displaying graphs and running the training loop of the model.\n",
    "    * All other code should go into regular `.py` files in relevant modules.\n",
    "* Do not run this notebook directly.\n",
    "    * Make a copy of the notebook with your name (e.g. `notebook-philip.ipynb`) to run this notebook.\n",
    "        * It will be automatically `gitignore`d.\n",
    "    * If any changes need to be made, update the cells on the master notebook _without_ running the cells.\n",
    "    * This is to ensure that the outputs are not committed and cause merge conflicts.\n",
    "* Please use typing information as much as possible."
   ]
  },
  {
   "attachments": {},
   "cell_type": "markdown",
   "metadata": {},
   "source": [
    "## Setup"
   ]
  },
  {
   "attachments": {},
   "cell_type": "markdown",
   "metadata": {},
   "source": [
    "1. Install conda from the following link (https://conda.io/projects/conda/en/latest/user-guide/install/linux.html).\n",
    "\n",
    "2. Create a conda environment with the following command.\n",
    "    ```\n",
    "    $ conda env create --file environment.yml\n",
    "    ```\n",
    "\n",
    "3. Activate the conda environmnent, either with the command below and/or through VSCode or PyCharm.\n",
    "    ```\n",
    "    $ conda activate nlp\n",
    "    ```"
   ]
  },
  {
   "cell_type": "code",
   "execution_count": null,
   "metadata": {},
   "outputs": [],
   "source": [
    "# Enable automatic reloading of modules so that you don't have to restart the kernel every time you update the module.\n",
    "%load_ext autoreload\n",
    "%autoreload 2"
   ]
  },
  {
   "cell_type": "code",
   "execution_count": null,
   "metadata": {},
   "outputs": [],
   "source": [
    "# Test if the necessary modules are installed.\n",
    "import nltk\n",
    "import numpy as np\n",
    "import pandas as pd\n",
    "import torch\n",
    "\n",
    "# Test if the modules can be imported properly.\n",
    "import model\n"
   ]
  },
  {
   "attachments": {},
   "cell_type": "markdown",
   "metadata": {},
   "source": [
    "## Run"
   ]
  },
  {
   "cell_type": "code",
   "execution_count": null,
   "metadata": {},
   "outputs": [],
   "source": []
  }
 ],
 "metadata": {
  "kernelspec": {
   "display_name": "nlp",
   "language": "python",
   "name": "python3"
  },
  "language_info": {
   "codemirror_mode": {
    "name": "ipython",
    "version": 3
   },
   "file_extension": ".py",
   "mimetype": "text/x-python",
   "name": "python",
   "nbconvert_exporter": "python",
   "pygments_lexer": "ipython3",
   "version": "3.10.9"
  },
  "orig_nbformat": 4,
  "vscode": {
   "interpreter": {
    "hash": "86dd9efa81dfc5be78065d85f4d60d946a70e85ea3c087ae58d899800d55903b"
   }
  }
 },
 "nbformat": 4,
 "nbformat_minor": 2
}
